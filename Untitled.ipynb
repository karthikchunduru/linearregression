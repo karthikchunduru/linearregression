{
 "cells": [
  {
   "cell_type": "code",
   "execution_count": 2,
   "metadata": {},
   "outputs": [],
   "source": [
    "import numpy as np\n",
    "import pandas as pd\n",
    "import matplotlib.pyplot as plt\n",
    "import sklearn.linear_model"
   ]
  },
  {
   "cell_type": "code",
   "execution_count": 14,
   "metadata": {},
   "outputs": [],
   "source": [
    "ds=pd.read_csv(\"oecd_bli_2015.csv\",header=0,thousands=',')"
   ]
  },
  {
   "cell_type": "code",
   "execution_count": 15,
   "metadata": {},
   "outputs": [
    {
     "name": "stdout",
     "output_type": "stream",
     "text": [
      "  LOCATION         Country INDICATOR                           Indicator  \\\n",
      "0      AUS       Australia   HO_BASE  Dwellings without basic facilities   \n",
      "1      AUT         Austria   HO_BASE  Dwellings without basic facilities   \n",
      "2      BEL         Belgium   HO_BASE  Dwellings without basic facilities   \n",
      "3      CAN          Canada   HO_BASE  Dwellings without basic facilities   \n",
      "4      CZE  Czech Republic   HO_BASE  Dwellings without basic facilities   \n",
      "\n",
      "  MEASURE Measure INEQUALITY Inequality Unit Code        Unit  PowerCode Code  \\\n",
      "0       L   Value        TOT      Total        PC  Percentage               0   \n",
      "1       L   Value        TOT      Total        PC  Percentage               0   \n",
      "2       L   Value        TOT      Total        PC  Percentage               0   \n",
      "3       L   Value        TOT      Total        PC  Percentage               0   \n",
      "4       L   Value        TOT      Total        PC  Percentage               0   \n",
      "\n",
      "  PowerCode  Reference Period Code  Reference Period  Value Flag Codes  \\\n",
      "0     units                    NaN               NaN    1.1          E   \n",
      "1     units                    NaN               NaN    1.0        NaN   \n",
      "2     units                    NaN               NaN    2.0        NaN   \n",
      "3     units                    NaN               NaN    0.2        NaN   \n",
      "4     units                    NaN               NaN    0.9        NaN   \n",
      "\n",
      "             Flags  \n",
      "0  Estimated value  \n",
      "1              NaN  \n",
      "2              NaN  \n",
      "3              NaN  \n",
      "4              NaN  \n"
     ]
    }
   ],
   "source": [
    "print(ds.head())"
   ]
  },
  {
   "cell_type": "code",
   "execution_count": 16,
   "metadata": {},
   "outputs": [
    {
     "name": "stdout",
     "output_type": "stream",
     "text": [
      "       PowerCode Code  Reference Period Code  Reference Period          Value\n",
      "count          3292.0                    0.0               0.0    3292.000000\n",
      "mean              0.0                    NaN               NaN    4774.392587\n",
      "std               0.0                    NaN               NaN   13941.537833\n",
      "min               0.0                    NaN               NaN       0.000000\n",
      "25%               0.0                    NaN               NaN       6.600000\n",
      "50%               0.0                    NaN               NaN      49.000000\n",
      "75%               0.0                    NaN               NaN      90.000000\n",
      "max               0.0                    NaN               NaN  145769.000000\n"
     ]
    }
   ],
   "source": [
    "print(ds.describe())"
   ]
  },
  {
   "cell_type": "code",
   "execution_count": 17,
   "metadata": {},
   "outputs": [],
   "source": [
    "ds2= pd.read_csv(\"gdp_per_capita.csv\",thousands=',',encoding='latin1', na_values=\"n/a\")"
   ]
  },
  {
   "cell_type": "code",
   "execution_count": 18,
   "metadata": {},
   "outputs": [
    {
     "name": "stdout",
     "output_type": "stream",
     "text": [
      "               Country                                Subject Descriptor  \\\n",
      "0          Afghanistan  Gross domestic product per capita current prices   \n",
      "1              Albania  Gross domestic product per capita current prices   \n",
      "2              Algeria  Gross domestic product per capita current prices   \n",
      "3               Angola  Gross domestic product per capita current prices   \n",
      "4  Antigua and Barbuda  Gross domestic product per capita current prices   \n",
      "\n",
      "          Units  Scale                      Country/Series-specific Notes  \\\n",
      "0  U.S. dollars  Units  See notes for:  Gross domestic product current...   \n",
      "1  U.S. dollars  Units  See notes for:  Gross domestic product current...   \n",
      "2  U.S. dollars  Units  See notes for:  Gross domestic product current...   \n",
      "3  U.S. dollars  Units  See notes for:  Gross domestic product current...   \n",
      "4  U.S. dollars  Units  See notes for:  Gross domestic product current...   \n",
      "\n",
      "        2015  Estimates Start After  \n",
      "0    599.994                 2013.0  \n",
      "1   3995.383                 2010.0  \n",
      "2   4318.135                 2014.0  \n",
      "3   4100.315                 2014.0  \n",
      "4  14414.302                 2011.0  \n"
     ]
    }
   ],
   "source": [
    "print(ds2.head())"
   ]
  },
  {
   "cell_type": "code",
   "execution_count": 19,
   "metadata": {},
   "outputs": [
    {
     "name": "stdout",
     "output_type": "stream",
     "text": [
      "                2015  Estimates Start After\n",
      "count     187.000000             188.000000\n",
      "mean    12590.961401            1969.250000\n",
      "std     17387.035890             291.147823\n",
      "min       220.860000               0.000000\n",
      "25%      1783.538000            2011.000000\n",
      "50%      5373.633000            2013.000000\n",
      "75%     15490.576500            2014.000000\n",
      "max    101994.093000            2015.000000\n"
     ]
    }
   ],
   "source": [
    "print(ds2.describe())"
   ]
  },
  {
   "cell_type": "code",
   "execution_count": 22,
   "metadata": {},
   "outputs": [],
   "source": [
    "def prepare_country_stats(oecd_bli, gdp_per_capita):\n",
    "    oecd_bli = oecd_bli[oecd_bli[\"INEQUALITY\"]==\"TOT\"]\n",
    "    oecd_bli = oecd_bli.pivot(index=\"Country\", columns=\"Indicator\", values=\"Value\")\n",
    "    gdp_per_capita.rename(columns={\"2015\": \"GDP per capita\"}, inplace=True)\n",
    "    gdp_per_capita.set_index(\"Country\", inplace=True)\n",
    "    full_country_stats = pd.merge(left=oecd_bli, right=gdp_per_capita,\n",
    "                                  left_index=True, right_index=True)\n",
    "    full_country_stats.sort_values(by=\"GDP per capita\", inplace=True)\n",
    "    remove_indices = [0, 1, 6, 8, 33, 34, 35]\n",
    "    keep_indices = list(set(range(36)) - set(remove_indices))\n",
    "    return full_country_stats[[\"GDP per capita\", 'Life satisfaction']].iloc[keep_indices]\n",
    "country_stats = prepare_country_stats(ds, ds2)\n",
    "X = np.c_[country_stats[\"GDP per capita\"]]\n",
    "y = np.c_[country_stats[\"Life satisfaction\"]]"
   ]
  },
  {
   "cell_type": "code",
   "execution_count": 24,
   "metadata": {},
   "outputs": [
    {
     "name": "stdout",
     "output_type": "stream",
     "text": [
      "                 GDP per capita  Life satisfaction\n",
      "Country                                           \n",
      "Russia                 9054.914                6.0\n",
      "Turkey                 9437.372                5.6\n",
      "Hungary               12239.894                4.9\n",
      "Poland                12495.334                5.8\n",
      "Slovak Republic       15991.736                6.1\n",
      "Estonia               17288.083                5.6\n",
      "Greece                18064.288                4.8\n",
      "Portugal              19121.592                5.1\n",
      "Slovenia              20732.482                5.7\n",
      "Spain                 25864.721                6.5\n",
      "Korea                 27195.197                5.8\n",
      "Italy                 29866.581                6.0\n",
      "Japan                 32485.545                5.9\n",
      "Israel                35343.336                7.4\n",
      "New Zealand           37044.891                7.3\n",
      "France                37675.006                6.5\n",
      "Belgium               40106.632                6.9\n",
      "Germany               40996.511                7.0\n",
      "Finland               41973.988                7.4\n",
      "Canada                43331.961                7.3\n",
      "Netherlands           43603.115                7.3\n",
      "Austria               43724.031                6.9\n",
      "United Kingdom        43770.688                6.8\n",
      "Sweden                49866.266                7.2\n",
      "Iceland               50854.583                7.5\n",
      "Australia             50961.865                7.3\n",
      "Ireland               51350.744                7.0\n",
      "Denmark               52114.165                7.5\n",
      "United States         55805.204                7.2\n"
     ]
    }
   ],
   "source": [
    "print(country_stats)"
   ]
  },
  {
   "cell_type": "code",
   "execution_count": 26,
   "metadata": {},
   "outputs": [
    {
     "data": {
      "image/png": "[encoded data removed]",
      "text/plain": [
       "<Figure size 432x288 with 1 Axes>"
      ]
     },
     "metadata": {
      "needs_background": "light"
     },
     "output_type": "display_data"
    }
   ],
   "source": [
    "country_stats.plot(kind='scatter', x=\"GDP per capita\", y='Life satisfaction')\n",
    "plt.show()"
   ]
  },
  {
   "cell_type": "code",
   "execution_count": 27,
   "metadata": {},
   "outputs": [],
   "source": [
    "model = sklearn.linear_model.LinearRegression()"
   ]
  },
  {
   "cell_type": "code",
   "execution_count": 28,
   "metadata": {},
   "outputs": [
    {
     "data": {
      "text/plain": [
       "LinearRegression(copy_X=True, fit_intercept=True, n_jobs=None, normalize=False)"
      ]
     },
     "execution_count": 28,
     "metadata": {},
     "output_type": "execute_result"
    }
   ],
   "source": [
    "model.fit(X, y)"
   ]
  },
  {
   "cell_type": "code",
   "execution_count": 29,
   "metadata": {},
   "outputs": [],
   "source": [
    "X_new = [[22587]]"
   ]
  },
  {
   "cell_type": "code",
   "execution_count": 30,
   "metadata": {},
   "outputs": [
    {
     "name": "stdout",
     "output_type": "stream",
     "text": [
      "[[5.96242338]]\n"
     ]
    }
   ],
   "source": [
    "print(model.predict(X_new))"
   ]
  },
  {
   "cell_type": "code",
   "execution_count": 31,
   "metadata": {},
   "outputs": [
    {
     "name": "stdout",
     "output_type": "stream",
     "text": [
      "[[15.94764264]]\n"
     ]
    }
   ],
   "source": [
    "X_new = [[225888]]\n",
    "print(model.predict(X_new))"
   ]
  },
  {
   "cell_type": "code",
   "execution_count": null,
   "metadata": {},
   "outputs": [],
   "source": []
  }
 ],
 "metadata": {
  "kernelspec": {
   "display_name": "Python 3",
   "language": "python",
   "name": "python3"
  },
  "language_info": {
   "codemirror_mode": {
    "name": "ipython",
    "version": 3
   },
   "file_extension": ".py",
   "mimetype": "text/x-python",
   "name": "python",
   "nbconvert_exporter": "python",
   "pygments_lexer": "ipython3",
   "version": "3.7.6"
  }
 },
 "nbformat": 4,
 "nbformat_minor": 4
}
